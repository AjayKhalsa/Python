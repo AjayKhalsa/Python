{
 "cells": [
  {
   "cell_type": "code",
   "execution_count": 35,
   "metadata": {},
   "outputs": [],
   "source": [
    "import random as rd"
   ]
  },
  {
   "cell_type": "code",
   "execution_count": 36,
   "metadata": {},
   "outputs": [],
   "source": [
    "a=['Rock','Paper','Scissor']"
   ]
  },
  {
   "cell_type": "code",
   "execution_count": 37,
   "metadata": {},
   "outputs": [
    {
     "name": "stdout",
     "output_type": "stream",
     "text": [
      "Enter 0 for Rock,1 for Paper,2 for Scissor\n",
      "2\n",
      "Scissor\n"
     ]
    }
   ],
   "source": [
    "user=int(input(\"Enter 0 for Rock,1 for Paper,2 for Scissor\\n\"))\n",
    "print(a[user])"
   ]
  },
  {
   "cell_type": "code",
   "execution_count": 38,
   "metadata": {},
   "outputs": [],
   "source": [
    "Computer=rd.choice(a)\n"
   ]
  },
  {
   "cell_type": "code",
   "execution_count": 42,
   "metadata": {},
   "outputs": [
    {
     "name": "stdout",
     "output_type": "stream",
     "text": [
      "Player vs Computer\n",
      "Scissor vs Paper\n"
     ]
    }
   ],
   "source": [
    "print(\"Player vs Computer\")\n",
    "print(f\"{a[user]} vs {Computer}\")"
   ]
  },
  {
   "cell_type": "code",
   "execution_count": 39,
   "metadata": {},
   "outputs": [
    {
     "name": "stdout",
     "output_type": "stream",
     "text": [
      "Player wins\n"
     ]
    }
   ],
   "source": [
    "if a[user] =='Rock'and Computer=='Scissor':\n",
    "    print(\"Player wins\")\n",
    "elif a[user] =='Rock'and Computer=='Rock':\n",
    "    print(\"Its a Tie\")\n",
    "elif a[user] =='Rock'and Computer=='Paper':\n",
    "    print(\"Computer wins\")\n",
    "elif a[user] =='Paper'and Computer=='Paper':\n",
    "    print(\"It's a Tie\")\n",
    "elif a[user] =='Paper'and Computer=='Rock':\n",
    "    print(\"Computer wins\") \n",
    "elif a[user] =='Paper'and Computer=='Scissor':\n",
    "    print(\"Player wins\") \n",
    "elif a[user] =='Scissor'and Computer=='Paper':\n",
    "    print(\"Player wins\") \n",
    "elif a[user] =='Scissor'and Computer=='Rock':\n",
    "    print(\"Computer wins\") \n",
    "else:\n",
    "    print(\"It's a Tie\") \n",
    "        \n"
   ]
  },
  {
   "cell_type": "code",
   "execution_count": null,
   "metadata": {},
   "outputs": [],
   "source": []
  }
 ],
 "metadata": {
  "kernelspec": {
   "display_name": "Python 3",
   "language": "python",
   "name": "python3"
  },
  "language_info": {
   "codemirror_mode": {
    "name": "ipython",
    "version": 3
   },
   "file_extension": ".py",
   "mimetype": "text/x-python",
   "name": "python",
   "nbconvert_exporter": "python",
   "pygments_lexer": "ipython3",
   "version": "3.6.5"
  }
 },
 "nbformat": 4,
 "nbformat_minor": 2
}
